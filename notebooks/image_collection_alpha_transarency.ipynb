{
  "cells": [
    {
      "cell_type": "markdown",
      "metadata": {
        "id": "view-in-github",
        "colab_type": "text"
      },
      "source": [
        "<a href=\"https://colab.research.google.com/github/hopperrr/segment-anything/blob/main/image_collection_alpha_transarency.ipynb\" target=\"_parent\"><img src=\"https://colab.research.google.com/assets/colab-badge.svg\" alt=\"Open In Colab\"/></a>"
      ]
    },
    {
      "cell_type": "code",
      "source": [
        "!git clone https://github.com/facebookresearch/segment-anything.git"
      ],
      "metadata": {
        "id": "rRQcco-kSgwh"
      },
      "id": "rRQcco-kSgwh",
      "execution_count": null,
      "outputs": []
    },
    {
      "cell_type": "markdown",
      "id": "b7c0041e",
      "metadata": {
        "id": "b7c0041e"
      },
      "source": [
        "# Automatically generating object masks with SAM"
      ]
    },
    {
      "cell_type": "code",
      "execution_count": 3,
      "id": "4fe300fb",
      "metadata": {
        "id": "4fe300fb"
      },
      "outputs": [],
      "source": [
        "using_colab = True"
      ]
    },
    {
      "cell_type": "code",
      "execution_count": null,
      "id": "0685a2f5",
      "metadata": {
        "id": "0685a2f5"
      },
      "outputs": [],
      "source": [
        "if using_colab:\n",
        "    import torch\n",
        "    import torchvision\n",
        "    print(\"PyTorch version:\", torch.__version__)\n",
        "    print(\"Torchvision version:\", torchvision.__version__)\n",
        "    print(\"CUDA is available:\", torch.cuda.is_available())\n",
        "    import sys\n",
        "    !{sys.executable} -m pip install opencv-python matplotlib\n",
        "    !{sys.executable} -m pip install 'git+https://github.com/facebookresearch/segment-anything.git'\n",
        "    \n",
        "    !mkdir images\n",
        "    !wget -P images https://raw.githubusercontent.com/facebookresearch/segment-anything/main/notebooks/images/dog.jpg\n",
        "        \n",
        "    !wget https://dl.fbaipublicfiles.com/segment_anything/sam_vit_h_4b8939.pth"
      ]
    },
    {
      "cell_type": "markdown",
      "id": "fd2bc687",
      "metadata": {
        "id": "fd2bc687"
      },
      "source": [
        "## Set-up"
      ]
    },
    {
      "cell_type": "code",
      "execution_count": 85,
      "id": "ad354922",
      "metadata": {
        "id": "ad354922"
      },
      "outputs": [],
      "source": [
        "import numpy as np\n",
        "import torch\n",
        "import matplotlib.pyplot as plt\n",
        "import cv2\n",
        "import pandas as pd\n",
        "from pathlib import Path\n",
        "imagepath = '/content/images/'\n",
        "imagename = 'aerial2.png'\n",
        "imagename_no_extension = imagename.rsplit( \".\", 1 )[ 0 ]\n",
        "outputfullpath = '/content/output/' + imagename\n",
        "outputsmall = '/content/output/' + imagename_no_extension + '/smalls'\n",
        "imagefullpath= imagepath + imagename\n",
        "metapath = '/content/output/' + imagename_no_extension\n",
        "image = cv2.imread(imagefullpath)\n",
        "image = cv2.cvtColor(image, cv2.COLOR_BGR2RGB)"
      ]
    },
    {
      "cell_type": "code",
      "source": [
        "!python /content/segment-anything/scripts/amg.py --model-type \"vit_h\" --checkpoint /content/sam_vit_h_4b8939.pth --input /content/images/aerial2.png --output /content/output"
      ],
      "metadata": {
        "id": "KdiQfOnFS6h_"
      },
      "id": "KdiQfOnFS6h_",
      "execution_count": null,
      "outputs": []
    },
    {
      "cell_type": "code",
      "source": [
        "df = pd.read_csv(metapath +\"/metadata.csv\")\n",
        "image = cv2.imread(imagefullpath)\n",
        "image = cv2.cvtColor(image, cv2.COLOR_BGR2RGB)\n",
        "filecount = len(df)\n",
        "Path(outputsmall).mkdir(parents=True, exist_ok=True) \n",
        "for index, row in df.iterrows():\n",
        "  itemnum = row['id']\n",
        "\n",
        "  masker = cv2.imread(metapath + '/' + str(int(itemnum)) + '.png')\n",
        "  masker_result = cv2.bitwise_and(image, masker)\n",
        "  details = df.loc[df['id'] == itemnum]\n",
        "  x = int(details.iloc[0]['bbox_x0'])\n",
        "  y = int(details.iloc[0]['bbox_y0'])\n",
        "  x1 = int(x + details.iloc[0]['bbox_w'])\n",
        "  y1 = int(y + details.iloc[0]['bbox_h'])\n",
        "  cropped = masker_result[y:y1, x:x1]\n",
        "  alpha = np.sum(cropped, axis=-1) > 0\n",
        "  alpha = np.uint8(alpha * 255)\n",
        "  res = np.dstack((cropped, alpha))\n",
        "  res = cv2.cvtColor(res, cv2.COLOR_BGRA2RGBA)\n",
        "  cv2.imwrite(outputsmall + '/' + str(int(itemnum)) + '.png', res)\n",
        "\n",
        "#plt.figure(figsize=(20,20))\n",
        "#plt.imshow(res)\n",
        "#plt.axis('off')\n",
        "#plt.show()"
      ],
      "metadata": {
        "id": "GlzpnFrSUsmM"
      },
      "id": "GlzpnFrSUsmM",
      "execution_count": 87,
      "outputs": []
    },
    {
      "cell_type": "code",
      "source": [
        "for index, row in df.iterrows():\n",
        "    print(row['bbox_x0'])"
      ],
      "metadata": {
        "id": "qwn1mL3s_aFW"
      },
      "id": "qwn1mL3s_aFW",
      "execution_count": null,
      "outputs": []
    },
    {
      "cell_type": "code",
      "source": [
        "import shutil\n",
        "shutil.rmtree(outputsmall)"
      ],
      "metadata": {
        "id": "2cCV-q_VI5LE"
      },
      "id": "2cCV-q_VI5LE",
      "execution_count": 56,
      "outputs": []
    },
    {
      "cell_type": "code",
      "source": [
        "details"
      ],
      "metadata": {
        "colab": {
          "base_uri": "https://localhost:8080/",
          "height": 81
        },
        "id": "kmb4WrY0q-4X",
        "outputId": "a13ee98e-3ce9-4be3-b631-6811d0ac98de"
      },
      "id": "kmb4WrY0q-4X",
      "execution_count": 11,
      "outputs": [
        {
          "output_type": "execute_result",
          "data": {
            "text/plain": [
              "    id  area  bbox_x0  bbox_y0  bbox_w  bbox_h  point_input_x  point_input_y  \\\n",
              "20  20  9544        0      467      84     165       60.28125       552.6875   \n",
              "\n",
              "    predicted_iou  stability_score  crop_box_x0  crop_box_y0  crop_box_w  \\\n",
              "20        0.98307         0.961404            0            0        1286   \n",
              "\n",
              "    crop_box_h  \n",
              "20         956  "
            ],
            "text/html": [
              "\n",
              "  <div id=\"df-21f949b2-8402-4b5d-9844-f90ebfa397f6\">\n",
              "    <div class=\"colab-df-container\">\n",
              "      <div>\n",
              "<style scoped>\n",
              "    .dataframe tbody tr th:only-of-type {\n",
              "        vertical-align: middle;\n",
              "    }\n",
              "\n",
              "    .dataframe tbody tr th {\n",
              "        vertical-align: top;\n",
              "    }\n",
              "\n",
              "    .dataframe thead th {\n",
              "        text-align: right;\n",
              "    }\n",
              "</style>\n",
              "<table border=\"1\" class=\"dataframe\">\n",
              "  <thead>\n",
              "    <tr style=\"text-align: right;\">\n",
              "      <th></th>\n",
              "      <th>id</th>\n",
              "      <th>area</th>\n",
              "      <th>bbox_x0</th>\n",
              "      <th>bbox_y0</th>\n",
              "      <th>bbox_w</th>\n",
              "      <th>bbox_h</th>\n",
              "      <th>point_input_x</th>\n",
              "      <th>point_input_y</th>\n",
              "      <th>predicted_iou</th>\n",
              "      <th>stability_score</th>\n",
              "      <th>crop_box_x0</th>\n",
              "      <th>crop_box_y0</th>\n",
              "      <th>crop_box_w</th>\n",
              "      <th>crop_box_h</th>\n",
              "    </tr>\n",
              "  </thead>\n",
              "  <tbody>\n",
              "    <tr>\n",
              "      <th>20</th>\n",
              "      <td>20</td>\n",
              "      <td>9544</td>\n",
              "      <td>0</td>\n",
              "      <td>467</td>\n",
              "      <td>84</td>\n",
              "      <td>165</td>\n",
              "      <td>60.28125</td>\n",
              "      <td>552.6875</td>\n",
              "      <td>0.98307</td>\n",
              "      <td>0.961404</td>\n",
              "      <td>0</td>\n",
              "      <td>0</td>\n",
              "      <td>1286</td>\n",
              "      <td>956</td>\n",
              "    </tr>\n",
              "  </tbody>\n",
              "</table>\n",
              "</div>\n",
              "      <button class=\"colab-df-convert\" onclick=\"convertToInteractive('df-21f949b2-8402-4b5d-9844-f90ebfa397f6')\"\n",
              "              title=\"Convert this dataframe to an interactive table.\"\n",
              "              style=\"display:none;\">\n",
              "        \n",
              "  <svg xmlns=\"http://www.w3.org/2000/svg\" height=\"24px\"viewBox=\"0 0 24 24\"\n",
              "       width=\"24px\">\n",
              "    <path d=\"M0 0h24v24H0V0z\" fill=\"none\"/>\n",
              "    <path d=\"M18.56 5.44l.94 2.06.94-2.06 2.06-.94-2.06-.94-.94-2.06-.94 2.06-2.06.94zm-11 1L8.5 8.5l.94-2.06 2.06-.94-2.06-.94L8.5 2.5l-.94 2.06-2.06.94zm10 10l.94 2.06.94-2.06 2.06-.94-2.06-.94-.94-2.06-.94 2.06-2.06.94z\"/><path d=\"M17.41 7.96l-1.37-1.37c-.4-.4-.92-.59-1.43-.59-.52 0-1.04.2-1.43.59L10.3 9.45l-7.72 7.72c-.78.78-.78 2.05 0 2.83L4 21.41c.39.39.9.59 1.41.59.51 0 1.02-.2 1.41-.59l7.78-7.78 2.81-2.81c.8-.78.8-2.07 0-2.86zM5.41 20L4 18.59l7.72-7.72 1.47 1.35L5.41 20z\"/>\n",
              "  </svg>\n",
              "      </button>\n",
              "      \n",
              "  <style>\n",
              "    .colab-df-container {\n",
              "      display:flex;\n",
              "      flex-wrap:wrap;\n",
              "      gap: 12px;\n",
              "    }\n",
              "\n",
              "    .colab-df-convert {\n",
              "      background-color: #E8F0FE;\n",
              "      border: none;\n",
              "      border-radius: 50%;\n",
              "      cursor: pointer;\n",
              "      display: none;\n",
              "      fill: #1967D2;\n",
              "      height: 32px;\n",
              "      padding: 0 0 0 0;\n",
              "      width: 32px;\n",
              "    }\n",
              "\n",
              "    .colab-df-convert:hover {\n",
              "      background-color: #E2EBFA;\n",
              "      box-shadow: 0px 1px 2px rgba(60, 64, 67, 0.3), 0px 1px 3px 1px rgba(60, 64, 67, 0.15);\n",
              "      fill: #174EA6;\n",
              "    }\n",
              "\n",
              "    [theme=dark] .colab-df-convert {\n",
              "      background-color: #3B4455;\n",
              "      fill: #D2E3FC;\n",
              "    }\n",
              "\n",
              "    [theme=dark] .colab-df-convert:hover {\n",
              "      background-color: #434B5C;\n",
              "      box-shadow: 0px 1px 3px 1px rgba(0, 0, 0, 0.15);\n",
              "      filter: drop-shadow(0px 1px 2px rgba(0, 0, 0, 0.3));\n",
              "      fill: #FFFFFF;\n",
              "    }\n",
              "  </style>\n",
              "\n",
              "      <script>\n",
              "        const buttonEl =\n",
              "          document.querySelector('#df-21f949b2-8402-4b5d-9844-f90ebfa397f6 button.colab-df-convert');\n",
              "        buttonEl.style.display =\n",
              "          google.colab.kernel.accessAllowed ? 'block' : 'none';\n",
              "\n",
              "        async function convertToInteractive(key) {\n",
              "          const element = document.querySelector('#df-21f949b2-8402-4b5d-9844-f90ebfa397f6');\n",
              "          const dataTable =\n",
              "            await google.colab.kernel.invokeFunction('convertToInteractive',\n",
              "                                                     [key], {});\n",
              "          if (!dataTable) return;\n",
              "\n",
              "          const docLinkHtml = 'Like what you see? Visit the ' +\n",
              "            '<a target=\"_blank\" href=https://colab.research.google.com/notebooks/data_table.ipynb>data table notebook</a>'\n",
              "            + ' to learn more about interactive tables.';\n",
              "          element.innerHTML = '';\n",
              "          dataTable['output_type'] = 'display_data';\n",
              "          await google.colab.output.renderOutput(dataTable, element);\n",
              "          const docLink = document.createElement('div');\n",
              "          docLink.innerHTML = docLinkHtml;\n",
              "          element.appendChild(docLink);\n",
              "        }\n",
              "      </script>\n",
              "    </div>\n",
              "  </div>\n",
              "  "
            ]
          },
          "metadata": {},
          "execution_count": 11
        }
      ]
    },
    {
      "cell_type": "code",
      "source": [
        "!zip -r /content/file4.zip /content/output/aerial2/smalls\n"
      ],
      "metadata": {
        "id": "-v0gxOMQXH0F"
      },
      "id": "-v0gxOMQXH0F",
      "execution_count": null,
      "outputs": []
    },
    {
      "cell_type": "code",
      "source": [
        "from google.colab import files\n",
        "files.download(\"/content/file4.zip\")"
      ],
      "metadata": {
        "colab": {
          "base_uri": "https://localhost:8080/",
          "height": 17
        },
        "id": "4tzW39mjXb6M",
        "outputId": "7035263c-17c0-44dc-fa81-bc70cdb46be6"
      },
      "id": "4tzW39mjXb6M",
      "execution_count": 90,
      "outputs": [
        {
          "output_type": "display_data",
          "data": {
            "text/plain": [
              "<IPython.core.display.Javascript object>"
            ],
            "application/javascript": [
              "\n",
              "    async function download(id, filename, size) {\n",
              "      if (!google.colab.kernel.accessAllowed) {\n",
              "        return;\n",
              "      }\n",
              "      const div = document.createElement('div');\n",
              "      const label = document.createElement('label');\n",
              "      label.textContent = `Downloading \"${filename}\": `;\n",
              "      div.appendChild(label);\n",
              "      const progress = document.createElement('progress');\n",
              "      progress.max = size;\n",
              "      div.appendChild(progress);\n",
              "      document.body.appendChild(div);\n",
              "\n",
              "      const buffers = [];\n",
              "      let downloaded = 0;\n",
              "\n",
              "      const channel = await google.colab.kernel.comms.open(id);\n",
              "      // Send a message to notify the kernel that we're ready.\n",
              "      channel.send({})\n",
              "\n",
              "      for await (const message of channel.messages) {\n",
              "        // Send a message to notify the kernel that we're ready.\n",
              "        channel.send({})\n",
              "        if (message.buffers) {\n",
              "          for (const buffer of message.buffers) {\n",
              "            buffers.push(buffer);\n",
              "            downloaded += buffer.byteLength;\n",
              "            progress.value = downloaded;\n",
              "          }\n",
              "        }\n",
              "      }\n",
              "      const blob = new Blob(buffers, {type: 'application/binary'});\n",
              "      const a = document.createElement('a');\n",
              "      a.href = window.URL.createObjectURL(blob);\n",
              "      a.download = filename;\n",
              "      div.appendChild(a);\n",
              "      a.click();\n",
              "      div.remove();\n",
              "    }\n",
              "  "
            ]
          },
          "metadata": {}
        },
        {
          "output_type": "display_data",
          "data": {
            "text/plain": [
              "<IPython.core.display.Javascript object>"
            ],
            "application/javascript": [
              "download(\"download_318be976-2bcc-46cf-9266-eff7abdbed40\", \"file4.zip\", 4326402)"
            ]
          },
          "metadata": {}
        }
      ]
    }
  ],
  "metadata": {
    "kernelspec": {
      "display_name": "Python 3 (ipykernel)",
      "language": "python",
      "name": "python3"
    },
    "language_info": {
      "codemirror_mode": {
        "name": "ipython",
        "version": 3
      },
      "file_extension": ".py",
      "mimetype": "text/x-python",
      "name": "python",
      "nbconvert_exporter": "python",
      "pygments_lexer": "ipython3",
      "version": "3.8.0"
    },
    "colab": {
      "provenance": [],
      "include_colab_link": true
    },
    "accelerator": "GPU",
    "gpuClass": "standard"
  },
  "nbformat": 4,
  "nbformat_minor": 5
}
